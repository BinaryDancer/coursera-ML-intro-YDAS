{
 "cells": [
  {
   "cell_type": "code",
   "execution_count": 1,
   "metadata": {},
   "outputs": [],
   "source": [
    "import numpy as np"
   ]
  },
  {
   "cell_type": "code",
   "execution_count": 2,
   "metadata": {},
   "outputs": [],
   "source": [
    "X = np.random.normal(loc=1, scale=10, size=(1000, 50))"
   ]
  },
  {
   "cell_type": "code",
   "execution_count": 3,
   "metadata": {},
   "outputs": [
    {
     "data": {
      "text/plain": [
       "array([[ 23.6213802 ,   3.47100162,   2.63947852, ..., -14.85942632,\n",
       "         -6.07679478,  21.49600931],\n",
       "       [-11.38133603,   9.35429352,   9.10409948, ...,   1.89899434,\n",
       "         20.32400724,  18.20633404],\n",
       "       [ 24.19630042,   7.31242485,  -1.29112023, ...,  21.69878746,\n",
       "         19.62237793,   2.30133076],\n",
       "       ...,\n",
       "       [ -5.86178559,   2.34525929,   8.560165  , ...,   5.38750226,\n",
       "         -9.43658972, -20.29889343],\n",
       "       [  6.40447436, -17.18831759, -17.73210074, ..., -16.21184841,\n",
       "         -1.36980652,  16.523301  ],\n",
       "       [ 27.99221804,  -3.71716261,  -9.08536679, ..., -10.59377946,\n",
       "         -1.9172615 , -14.28926437]])"
      ]
     },
     "execution_count": 3,
     "metadata": {},
     "output_type": "execute_result"
    }
   ],
   "source": [
    "X"
   ]
  },
  {
   "cell_type": "code",
   "execution_count": 4,
   "metadata": {},
   "outputs": [],
   "source": [
    "m = X.mean()\n",
    "std = X.std()"
   ]
  },
  {
   "cell_type": "code",
   "execution_count": 5,
   "metadata": {},
   "outputs": [],
   "source": [
    "X_norm = (X - m) / std"
   ]
  },
  {
   "cell_type": "code",
   "execution_count": 6,
   "metadata": {},
   "outputs": [
    {
     "data": {
      "text/plain": [
       "array([[ 2.26644732,  0.24430421,  0.16085869, ..., -1.5952021 ,\n",
       "        -0.71384209,  2.0531608 ],\n",
       "       [-1.24616666,  0.83470792,  0.80960029, ...,  0.08654917,\n",
       "         1.93554733,  1.7230333 ],\n",
       "       [ 2.32414207,  0.62980106, -0.23358715, ...,  2.07351012,\n",
       "         1.865137  ,  0.12692468],\n",
       "       ...,\n",
       "       [-0.69226536,  0.13133303,  0.75501504, ...,  0.43663005,\n",
       "        -1.05100629, -2.14106683],\n",
       "       [ 0.53868586, -1.82891242, -1.88348248, ..., -1.73092119,\n",
       "        -0.24148353,  1.55413654],\n",
       "       [ 2.70507231, -0.47704684, -1.01576015, ..., -1.1671333 ,\n",
       "        -0.29642207, -1.53798486]])"
      ]
     },
     "execution_count": 6,
     "metadata": {},
     "output_type": "execute_result"
    }
   ],
   "source": [
    "X_norm"
   ]
  },
  {
   "cell_type": "code",
   "execution_count": 7,
   "metadata": {},
   "outputs": [],
   "source": [
    "Z = np.array([[4, 5, 0], \n",
    "             [1, 9, 3],              \n",
    "             [5, 1, 1],\n",
    "             [3, 3, 3], \n",
    "             [9, 9, 9], \n",
    "             [4, 7, 1]])"
   ]
  },
  {
   "cell_type": "code",
   "execution_count": 8,
   "metadata": {},
   "outputs": [],
   "source": [
    "X = np.array([row for row in Z if row.sum() > 10])"
   ]
  },
  {
   "cell_type": "code",
   "execution_count": 9,
   "metadata": {},
   "outputs": [
    {
     "data": {
      "text/plain": [
       "array([[1, 9, 3],\n",
       "       [9, 9, 9],\n",
       "       [4, 7, 1]])"
      ]
     },
     "execution_count": 9,
     "metadata": {},
     "output_type": "execute_result"
    }
   ],
   "source": [
    "X"
   ]
  },
  {
   "cell_type": "code",
   "execution_count": 10,
   "metadata": {},
   "outputs": [],
   "source": [
    "E1 = np.eye(3)\n",
    "E2 = np.eye(3)"
   ]
  },
  {
   "cell_type": "code",
   "execution_count": 11,
   "metadata": {},
   "outputs": [
    {
     "data": {
      "text/plain": [
       "array([[1., 0., 0.],\n",
       "       [0., 1., 0.],\n",
       "       [0., 0., 1.],\n",
       "       [1., 0., 0.],\n",
       "       [0., 1., 0.],\n",
       "       [0., 0., 1.]])"
      ]
     },
     "execution_count": 11,
     "metadata": {},
     "output_type": "execute_result"
    }
   ],
   "source": [
    "np.vstack((E1, E2))"
   ]
  },
  {
   "cell_type": "code",
   "execution_count": null,
   "metadata": {},
   "outputs": [],
   "source": []
  }
 ],
 "metadata": {
  "kernelspec": {
   "display_name": "Python 3",
   "language": "python",
   "name": "python3"
  },
  "language_info": {
   "codemirror_mode": {
    "name": "ipython",
    "version": 3
   },
   "file_extension": ".py",
   "mimetype": "text/x-python",
   "name": "python",
   "nbconvert_exporter": "python",
   "pygments_lexer": "ipython3",
   "version": "3.7.4"
  }
 },
 "nbformat": 4,
 "nbformat_minor": 2
}
